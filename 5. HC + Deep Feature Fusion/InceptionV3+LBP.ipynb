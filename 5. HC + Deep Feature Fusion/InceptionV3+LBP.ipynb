{
 "cells": [
  {
   "cell_type": "code",
   "execution_count": 1,
   "id": "a7e9a228",
   "metadata": {
    "_cell_guid": "b1076dfc-b9ad-4769-8c92-a6c4dae69d19",
    "_uuid": "8f2839f25d086af736a60e9eeb907d3b93b6e0e5",
    "execution": {
     "iopub.execute_input": "2024-07-11T15:01:33.198823Z",
     "iopub.status.busy": "2024-07-11T15:01:33.198543Z",
     "iopub.status.idle": "2024-07-11T15:01:46.673728Z",
     "shell.execute_reply": "2024-07-11T15:01:46.672798Z"
    },
    "papermill": {
     "duration": 13.484107,
     "end_time": "2024-07-11T15:01:46.676110",
     "exception": false,
     "start_time": "2024-07-11T15:01:33.192003",
     "status": "completed"
    },
    "tags": []
   },
   "outputs": [
    {
     "name": "stderr",
     "output_type": "stream",
     "text": [
      "2024-07-11 15:01:36.893074: E external/local_xla/xla/stream_executor/cuda/cuda_dnn.cc:9261] Unable to register cuDNN factory: Attempting to register factory for plugin cuDNN when one has already been registered\n",
      "2024-07-11 15:01:36.893177: E external/local_xla/xla/stream_executor/cuda/cuda_fft.cc:607] Unable to register cuFFT factory: Attempting to register factory for plugin cuFFT when one has already been registered\n",
      "2024-07-11 15:01:37.029033: E external/local_xla/xla/stream_executor/cuda/cuda_blas.cc:1515] Unable to register cuBLAS factory: Attempting to register factory for plugin cuBLAS when one has already been registered\n"
     ]
    }
   ],
   "source": [
    "import numpy as np\n",
    "import pandas as pd\n",
    "import matplotlib.pyplot as plt\n",
    "import pathlib\n",
    "import os\n",
    "import glob as gb\n",
    "import cv2\n",
    "import PIL\n",
    "import seaborn as sns\n",
    "import tensorflow as tf\n",
    "from sklearn.metrics import accuracy_score, recall_score, precision_score, f1_score, roc_auc_score\n",
    "from sklearn.model_selection import train_test_split\n",
    "from tensorflow.keras.callbacks import EarlyStopping, ReduceLROnPlateau\n",
    "from tensorflow.keras.models import Sequential\n",
    "from tensorflow.keras.layers import Conv2D, Dense, Dropout, Flatten, MaxPooling2D, BatchNormalization, GlobalAveragePooling2D\n",
    "from tensorflow.keras.utils import to_categorical\n",
    "from tensorflow.keras.applications import InceptionV3\n",
    "from keras.applications.vgg19 import VGG19\n",
    "from tensorflow.keras.optimizers import Adam\n",
    "from tensorflow import keras\n",
    "from keras.models import Model"
   ]
  },
  {
   "cell_type": "code",
   "execution_count": 2,
   "id": "9703bc42",
   "metadata": {
    "execution": {
     "iopub.execute_input": "2024-07-11T15:01:46.688468Z",
     "iopub.status.busy": "2024-07-11T15:01:46.687925Z",
     "iopub.status.idle": "2024-07-11T15:01:46.692109Z",
     "shell.execute_reply": "2024-07-11T15:01:46.691271Z"
    },
    "papermill": {
     "duration": 0.012218,
     "end_time": "2024-07-11T15:01:46.693994",
     "exception": false,
     "start_time": "2024-07-11T15:01:46.681776",
     "status": "completed"
    },
    "tags": []
   },
   "outputs": [],
   "source": [
    "trainpath = '/kaggle/input/riceleafdiseasedataset/dataset/train'\n",
    "testpath = '/kaggle/input/riceleafdiseasedataset/dataset/test'"
   ]
  },
  {
   "cell_type": "markdown",
   "id": "ae94b71f",
   "metadata": {
    "papermill": {
     "duration": 0.004869,
     "end_time": "2024-07-11T15:01:46.704064",
     "exception": false,
     "start_time": "2024-07-11T15:01:46.699195",
     "status": "completed"
    },
    "tags": []
   },
   "source": []
  },
  {
   "cell_type": "markdown",
   "id": "003a5883",
   "metadata": {
    "papermill": {
     "duration": 0.004826,
     "end_time": "2024-07-11T15:01:46.713910",
     "exception": false,
     "start_time": "2024-07-11T15:01:46.709084",
     "status": "completed"
    },
    "tags": []
   },
   "source": [
    "# Image Processing"
   ]
  },
  {
   "cell_type": "code",
   "execution_count": 3,
   "id": "883038a7",
   "metadata": {
    "execution": {
     "iopub.execute_input": "2024-07-11T15:01:46.725177Z",
     "iopub.status.busy": "2024-07-11T15:01:46.724922Z",
     "iopub.status.idle": "2024-07-11T15:02:41.913569Z",
     "shell.execute_reply": "2024-07-11T15:02:41.912523Z"
    },
    "papermill": {
     "duration": 55.196677,
     "end_time": "2024-07-11T15:02:41.915664",
     "exception": false,
     "start_time": "2024-07-11T15:01:46.718987",
     "status": "completed"
    },
    "tags": []
   },
   "outputs": [
    {
     "name": "stdout",
     "output_type": "stream",
     "text": [
      "Entering the folder: Tungro\n",
      "Number of images in the folder: 1108\n",
      "Entering the folder: BacterialBlight\n",
      "Number of images in the folder: 1384\n",
      "Entering the folder: Blast\n",
      "Number of images in the folder: 1240\n",
      "Entering the folder: BrownSpot\n",
      "Number of images in the folder: 1400\n",
      "Entering to the folder name: Tungro\n",
      "Number of images in the folder is 200\n",
      "Entering to the folder name: BacterialBlight\n",
      "Number of images in the folder is 200\n",
      "Entering to the folder name: Blast\n",
      "Number of images in the folder is 200\n",
      "Entering to the folder name: BrownSpot\n",
      "Number of images in the folder is 200\n",
      "(5132, 224, 224, 3)\n",
      "********************\n",
      "(5132,)\n",
      "********************\n",
      "(800, 224, 224, 3)\n",
      "(800,)\n",
      "Num GPUs Available: 2\n"
     ]
    }
   ],
   "source": [
    "# Image Processing - Training Data\n",
    "new_size = 224\n",
    "train_images = []\n",
    "train_labels = []\n",
    "class_disease = {'BacterialBlight': 0, 'Blast': 1, 'BrownSpot': 2, 'Tungro': 3}\n",
    "\n",
    "for i in os.listdir(trainpath):\n",
    "    if i in class_disease:\n",
    "        print(\"Entering the folder:\", i)\n",
    "        files = gb.glob(pathname=str(trainpath + '/' + i + '/*.jpg')) + gb.glob(pathname=str(trainpath + '/' + i + '/*.JPG'))\n",
    "        print(\"Number of images in the folder:\", len(files))\n",
    "        for j in files:\n",
    "            image_raw = cv2.imread(j)\n",
    "            image = cv2.cvtColor(image_raw, cv2.COLOR_BGR2RGB)\n",
    "            resize_image = cv2.resize(image, (new_size, new_size))\n",
    "            train_images.append(list(resize_image))\n",
    "            train_labels.append(class_disease[i])\n",
    "\n",
    "# Image Processing - Testing Data\n",
    "new_size = 224\n",
    "test_images = []\n",
    "test_labels = []\n",
    "\n",
    "for i in os.listdir(testpath):\n",
    "    if i in class_disease:\n",
    "        print(\"Entering to the folder name:\", i)\n",
    "        files = gb.glob(pathname=str(testpath + '/' + i + '/*.jpg')) + gb.glob(pathname=str(testpath + '/' + i + '/*.JPG'))\n",
    "        print(\"Number of images in the folder is\", len(files))\n",
    "        for j in files:\n",
    "            image_raw = cv2.imread(j)\n",
    "            image = cv2.cvtColor(image_raw, cv2.COLOR_BGR2RGB)\n",
    "            resize_image = cv2.resize(image, (new_size, new_size))\n",
    "            test_images.append(list(resize_image))\n",
    "            test_labels.append(class_disease[i])\n",
    "\n",
    "def list_to_array_train(train_images, train_labels):\n",
    "    return np.array(train_images), np.array(train_labels)\n",
    "\n",
    "X_train, y_train = list_to_array_train(train_images, train_labels)\n",
    "\n",
    "def list_to_array_test(test_images, test_labels):\n",
    "    return np.array(test_images), np.array(test_labels)\n",
    "\n",
    "X_test, y_test = list_to_array_test(test_images, test_labels)\n",
    "\n",
    "print(X_train.shape)\n",
    "print(\"*\" * 20)\n",
    "print(y_train.shape)\n",
    "print(\"*\" * 20)\n",
    "print(X_test.shape)\n",
    "print(y_test.shape)\n",
    "\n",
    "def keras_to_categorical(y_train, y_test):\n",
    "    return to_categorical(y_train), to_categorical(y_test)\n",
    "\n",
    "y_train1 = y_train\n",
    "y_test1 = y_test\n",
    "y_train, y_test = keras_to_categorical(y_train, y_test)\n",
    "\n",
    "y_train1.shape, y_test1.shape\n",
    "\n",
    "def convert_one_hot_to_categorical(one_hot_labels):\n",
    "    return np.argmax(one_hot_labels, axis=1)\n",
    "\n",
    "gpus = tf.config.list_physical_devices('GPU')\n",
    "print(f\"Num GPUs Available: {len(gpus)}\")\n",
    "\n",
    "if len(gpus) < 2:\n",
    "    print(\"Not enough GPUs available, ensure your environment is configured correctly\")\n",
    "else:\n",
    "    for gpu in gpus:\n",
    "        tf.config.experimental.set_memory_growth(gpu, True)\n",
    "    strategy = tf.distribute.MirroredStrategy()"
   ]
  },
  {
   "cell_type": "code",
   "execution_count": 4,
   "id": "b2bce2e6",
   "metadata": {
    "execution": {
     "iopub.execute_input": "2024-07-11T15:02:41.930035Z",
     "iopub.status.busy": "2024-07-11T15:02:41.929363Z",
     "iopub.status.idle": "2024-07-11T15:02:41.933590Z",
     "shell.execute_reply": "2024-07-11T15:02:41.932762Z"
    },
    "papermill": {
     "duration": 0.01326,
     "end_time": "2024-07-11T15:02:41.935409",
     "exception": false,
     "start_time": "2024-07-11T15:02:41.922149",
     "status": "completed"
    },
    "tags": []
   },
   "outputs": [],
   "source": [
    "# Function to convert one-hot encoded labels to categorical labels\n",
    "def convert_one_hot_to_categorical(one_hot_labels):\n",
    "    return np.argmax(one_hot_labels, axis=1)"
   ]
  },
  {
   "cell_type": "code",
   "execution_count": 5,
   "id": "3e9ef215",
   "metadata": {
    "execution": {
     "iopub.execute_input": "2024-07-11T15:02:41.948934Z",
     "iopub.status.busy": "2024-07-11T15:02:41.948476Z",
     "iopub.status.idle": "2024-07-11T15:02:41.953496Z",
     "shell.execute_reply": "2024-07-11T15:02:41.952686Z"
    },
    "papermill": {
     "duration": 0.013656,
     "end_time": "2024-07-11T15:02:41.955301",
     "exception": false,
     "start_time": "2024-07-11T15:02:41.941645",
     "status": "completed"
    },
    "tags": []
   },
   "outputs": [],
   "source": [
    "# Deep Feature Extraction - InceptionV3\n",
    "def model_inceptionV3():\n",
    "    Inception_model = InceptionV3(weights='imagenet', include_top=False, input_shape=(224, 224, 3))\n",
    "    for layer in Inception_model.layers:\n",
    "        layer.trainable = False\n",
    "    feature = GlobalAveragePooling2D()(Inception_model.output)\n",
    "    output = Model(inputs=Inception_model.input, outputs=feature)\n",
    "    return output\n"
   ]
  },
  {
   "cell_type": "code",
   "execution_count": 6,
   "id": "c9965428",
   "metadata": {
    "execution": {
     "iopub.execute_input": "2024-07-11T15:02:41.969066Z",
     "iopub.status.busy": "2024-07-11T15:02:41.968244Z",
     "iopub.status.idle": "2024-07-11T15:05:46.812651Z",
     "shell.execute_reply": "2024-07-11T15:05:46.811663Z"
    },
    "papermill": {
     "duration": 184.853736,
     "end_time": "2024-07-11T15:05:46.815156",
     "exception": false,
     "start_time": "2024-07-11T15:02:41.961420",
     "status": "completed"
    },
    "tags": []
   },
   "outputs": [
    {
     "name": "stderr",
     "output_type": "stream",
     "text": [
      "/opt/conda/lib/python3.10/site-packages/skimage/feature/texture.py:353: UserWarning: Applying `local_binary_pattern` to floating-point images may give unexpected results when small numerical differences between adjacent pixels are present. It is recommended to use this function with images of integer dtype.\n",
      "  warnings.warn(\n"
     ]
    }
   ],
   "source": [
    "# LBP\n",
    "\n",
    "from skimage.feature import local_binary_pattern\n",
    "from skimage.color import rgb2gray\n",
    "from tqdm import tqdm\n",
    "\n",
    "# Parameters for LBP\n",
    "radius = 3\n",
    "n_points = 8 * radius\n",
    "\n",
    "def compute_lbp_features(image):\n",
    "    if image.ndim == 3 and image.shape[2] == 3:  # Check if the image is RGB\n",
    "        gray_image = rgb2gray(image)\n",
    "    elif image.ndim == 2:  # If the image is already grayscale\n",
    "        gray_image = image\n",
    "    else:\n",
    "        raise ValueError(f\"Unexpected image shape: {image.shape}\")\n",
    "    \n",
    "    lbp = local_binary_pattern(gray_image, n_points, radius, method='uniform')\n",
    "    (hist, _) = np.histogram(lbp.ravel(), bins=np.arange(0, n_points + 3), range=(0, n_points + 2))\n",
    "    hist = hist.astype(\"float\")\n",
    "    hist /= (hist.sum() + 1e-6)  # Normalize the histogram\n",
    "    return hist\n",
    "\n",
    "def extract_lbp_features(X):\n",
    "    return np.array([compute_lbp_features(img) for img in X])\n",
    "\n",
    "train_feature_lbp = extract_lbp_features(X_train)\n",
    "test_feature_lbp = extract_lbp_features(X_test)\n"
   ]
  },
  {
   "cell_type": "markdown",
   "id": "8ea3450f",
   "metadata": {
    "papermill": {
     "duration": 0.006166,
     "end_time": "2024-07-11T15:05:46.828154",
     "exception": false,
     "start_time": "2024-07-11T15:05:46.821988",
     "status": "completed"
    },
    "tags": []
   },
   "source": [
    "# InceptionV3 + LBP + Random Forest Classifier"
   ]
  },
  {
   "cell_type": "code",
   "execution_count": 7,
   "id": "a83e7f5c",
   "metadata": {
    "execution": {
     "iopub.execute_input": "2024-07-11T15:05:46.843480Z",
     "iopub.status.busy": "2024-07-11T15:05:46.842807Z",
     "iopub.status.idle": "2024-07-11T15:13:50.430823Z",
     "shell.execute_reply": "2024-07-11T15:13:50.429757Z"
    },
    "papermill": {
     "duration": 483.597391,
     "end_time": "2024-07-11T15:13:50.432820",
     "exception": false,
     "start_time": "2024-07-11T15:05:46.835429",
     "status": "completed"
    },
    "tags": []
   },
   "outputs": [
    {
     "name": "stderr",
     "output_type": "stream",
     "text": [
      "Evaluating InceptionV3+LBP:   0%|          | 0/10 [00:00<?, ?it/s]"
     ]
    },
    {
     "name": "stdout",
     "output_type": "stream",
     "text": [
      "Downloading data from https://storage.googleapis.com/tensorflow/keras-applications/inception_v3/inception_v3_weights_tf_dim_ordering_tf_kernels_notop.h5\n",
      "\u001b[1m87910968/87910968\u001b[0m \u001b[32m━━━━━━━━━━━━━━━━━━━━\u001b[0m\u001b[37m\u001b[0m \u001b[1m4s\u001b[0m 0us/step\n",
      "\u001b[1m161/161\u001b[0m \u001b[32m━━━━━━━━━━━━━━━━━━━━\u001b[0m\u001b[37m\u001b[0m \u001b[1m24s\u001b[0m 90ms/step\n",
      "\u001b[1m25/25\u001b[0m \u001b[32m━━━━━━━━━━━━━━━━━━━━\u001b[0m\u001b[37m\u001b[0m \u001b[1m1s\u001b[0m 45ms/step\n"
     ]
    },
    {
     "name": "stderr",
     "output_type": "stream",
     "text": [
      "Evaluating InceptionV3+LBP:  10%|█         | 1/10 [00:58<08:43, 58.17s/it]"
     ]
    },
    {
     "name": "stdout",
     "output_type": "stream",
     "text": [
      "Run 1 - Accuracy: 0.88625000, Recall: 0.88625000, Precision: 0.98030510, F1 Score: 0.92611880, AUC: 0.94000000\n",
      "\u001b[1m161/161\u001b[0m \u001b[32m━━━━━━━━━━━━━━━━━━━━\u001b[0m\u001b[37m\u001b[0m \u001b[1m18s\u001b[0m 81ms/step\n",
      "\u001b[1m25/25\u001b[0m \u001b[32m━━━━━━━━━━━━━━━━━━━━\u001b[0m\u001b[37m\u001b[0m \u001b[1m1s\u001b[0m 50ms/step\n"
     ]
    },
    {
     "name": "stderr",
     "output_type": "stream",
     "text": [
      "Evaluating InceptionV3+LBP:  20%|██        | 2/10 [01:45<06:52, 51.59s/it]"
     ]
    },
    {
     "name": "stdout",
     "output_type": "stream",
     "text": [
      "Run 2 - Accuracy: 0.89125000, Recall: 0.89125000, Precision: 0.97389778, F1 Score: 0.92439512, AUC: 0.94125000\n",
      "\u001b[1m161/161\u001b[0m \u001b[32m━━━━━━━━━━━━━━━━━━━━\u001b[0m\u001b[37m\u001b[0m \u001b[1m17s\u001b[0m 77ms/step\n",
      "\u001b[1m25/25\u001b[0m \u001b[32m━━━━━━━━━━━━━━━━━━━━\u001b[0m\u001b[37m\u001b[0m \u001b[1m1s\u001b[0m 49ms/step\n"
     ]
    },
    {
     "name": "stderr",
     "output_type": "stream",
     "text": [
      "Evaluating InceptionV3+LBP:  30%|███       | 3/10 [02:31<05:44, 49.26s/it]"
     ]
    },
    {
     "name": "stdout",
     "output_type": "stream",
     "text": [
      "Run 3 - Accuracy: 0.88500000, Recall: 0.88500000, Precision: 0.97856630, F1 Score: 0.92304585, AUC: 0.93895833\n",
      "\u001b[1m161/161\u001b[0m \u001b[32m━━━━━━━━━━━━━━━━━━━━\u001b[0m\u001b[37m\u001b[0m \u001b[1m17s\u001b[0m 78ms/step\n",
      "\u001b[1m25/25\u001b[0m \u001b[32m━━━━━━━━━━━━━━━━━━━━\u001b[0m\u001b[37m\u001b[0m \u001b[1m1s\u001b[0m 50ms/step\n"
     ]
    },
    {
     "name": "stderr",
     "output_type": "stream",
     "text": [
      "Evaluating InceptionV3+LBP:  40%|████      | 4/10 [03:19<04:51, 48.60s/it]"
     ]
    },
    {
     "name": "stdout",
     "output_type": "stream",
     "text": [
      "Run 4 - Accuracy: 0.87625000, Recall: 0.87625000, Precision: 0.98086735, F1 Score: 0.91889418, AUC: 0.93500000\n",
      "\u001b[1m161/161\u001b[0m \u001b[32m━━━━━━━━━━━━━━━━━━━━\u001b[0m\u001b[37m\u001b[0m \u001b[1m18s\u001b[0m 77ms/step\n",
      "\u001b[1m25/25\u001b[0m \u001b[32m━━━━━━━━━━━━━━━━━━━━\u001b[0m\u001b[37m\u001b[0m \u001b[1m1s\u001b[0m 48ms/step\n"
     ]
    },
    {
     "name": "stderr",
     "output_type": "stream",
     "text": [
      "Evaluating InceptionV3+LBP:  50%|█████     | 5/10 [04:06<04:00, 48.04s/it]"
     ]
    },
    {
     "name": "stdout",
     "output_type": "stream",
     "text": [
      "Run 5 - Accuracy: 0.88375000, Recall: 0.88375000, Precision: 0.97605769, F1 Score: 0.92143392, AUC: 0.93791667\n",
      "\u001b[1m161/161\u001b[0m \u001b[32m━━━━━━━━━━━━━━━━━━━━\u001b[0m\u001b[37m\u001b[0m \u001b[1m18s\u001b[0m 83ms/step\n",
      "\u001b[1m25/25\u001b[0m \u001b[32m━━━━━━━━━━━━━━━━━━━━\u001b[0m\u001b[37m\u001b[0m \u001b[1m1s\u001b[0m 48ms/step\n"
     ]
    },
    {
     "name": "stderr",
     "output_type": "stream",
     "text": [
      "Evaluating InceptionV3+LBP:  60%|██████    | 6/10 [04:53<03:10, 47.75s/it]"
     ]
    },
    {
     "name": "stdout",
     "output_type": "stream",
     "text": [
      "Run 6 - Accuracy: 0.88625000, Recall: 0.88625000, Precision: 0.98371604, F1 Score: 0.92535205, AUC: 0.94041667\n",
      "\u001b[1m161/161\u001b[0m \u001b[32m━━━━━━━━━━━━━━━━━━━━\u001b[0m\u001b[37m\u001b[0m \u001b[1m17s\u001b[0m 77ms/step\n",
      "\u001b[1m25/25\u001b[0m \u001b[32m━━━━━━━━━━━━━━━━━━━━\u001b[0m\u001b[37m\u001b[0m \u001b[1m1s\u001b[0m 51ms/step\n"
     ]
    },
    {
     "name": "stderr",
     "output_type": "stream",
     "text": [
      "Evaluating InceptionV3+LBP:  70%|███████   | 7/10 [05:39<02:22, 47.34s/it]"
     ]
    },
    {
     "name": "stdout",
     "output_type": "stream",
     "text": [
      "Run 7 - Accuracy: 0.87750000, Recall: 0.87750000, Precision: 0.97605413, F1 Score: 0.91686965, AUC: 0.93479167\n",
      "\u001b[1m161/161\u001b[0m \u001b[32m━━━━━━━━━━━━━━━━━━━━\u001b[0m\u001b[37m\u001b[0m \u001b[1m18s\u001b[0m 80ms/step\n",
      "\u001b[1m25/25\u001b[0m \u001b[32m━━━━━━━━━━━━━━━━━━━━\u001b[0m\u001b[37m\u001b[0m \u001b[1m1s\u001b[0m 49ms/step\n"
     ]
    },
    {
     "name": "stderr",
     "output_type": "stream",
     "text": [
      "Evaluating InceptionV3+LBP:  80%|████████  | 8/10 [06:27<01:35, 47.52s/it]"
     ]
    },
    {
     "name": "stdout",
     "output_type": "stream",
     "text": [
      "Run 8 - Accuracy: 0.89125000, Recall: 0.89125000, Precision: 0.97390351, F1 Score: 0.92575668, AUC: 0.94145833\n",
      "\u001b[1m161/161\u001b[0m \u001b[32m━━━━━━━━━━━━━━━━━━━━\u001b[0m\u001b[37m\u001b[0m \u001b[1m17s\u001b[0m 79ms/step\n",
      "\u001b[1m25/25\u001b[0m \u001b[32m━━━━━━━━━━━━━━━━━━━━\u001b[0m\u001b[37m\u001b[0m \u001b[1m1s\u001b[0m 51ms/step\n"
     ]
    },
    {
     "name": "stderr",
     "output_type": "stream",
     "text": [
      "Evaluating InceptionV3+LBP:  90%|█████████ | 9/10 [07:15<00:47, 47.61s/it]"
     ]
    },
    {
     "name": "stdout",
     "output_type": "stream",
     "text": [
      "Run 9 - Accuracy: 0.87375000, Recall: 0.87375000, Precision: 0.98187713, F1 Score: 0.91779988, AUC: 0.93395833\n",
      "\u001b[1m161/161\u001b[0m \u001b[32m━━━━━━━━━━━━━━━━━━━━\u001b[0m\u001b[37m\u001b[0m \u001b[1m18s\u001b[0m 78ms/step\n",
      "\u001b[1m25/25\u001b[0m \u001b[32m━━━━━━━━━━━━━━━━━━━━\u001b[0m\u001b[37m\u001b[0m \u001b[1m1s\u001b[0m 49ms/step\n"
     ]
    },
    {
     "name": "stderr",
     "output_type": "stream",
     "text": [
      "Evaluating InceptionV3+LBP: 100%|██████████| 10/10 [08:03<00:00, 48.31s/it]"
     ]
    },
    {
     "name": "stdout",
     "output_type": "stream",
     "text": [
      "Run 10 - Accuracy: 0.88125000, Recall: 0.88125000, Precision: 0.98068221, F1 Score: 0.92213011, AUC: 0.93750000\n",
      "\n",
      "Average Metrics:\n",
      "Accuracy: 0.88325000 (std: 0.00570636)\n",
      "Recall: 0.88325000 (std: 0.00570636)\n",
      "Precision: 0.97859272 (std: 0.00326206)\n",
      "F1: 0.92217962 (std: 0.00320572)\n",
      "Auc: 0.93812500 (std: 0.00262698)\n"
     ]
    },
    {
     "name": "stderr",
     "output_type": "stream",
     "text": [
      "\n"
     ]
    },
    {
     "name": "stdout",
     "output_type": "stream",
     "text": [
      "\n",
      "Metrics results saved to 'InceptionV3+LBP+RF.xlsx'\n"
     ]
    }
   ],
   "source": [
    "from sklearn.ensemble import RandomForestClassifier\n",
    "\n",
    "def train_fuse_and_evaluate_model(X_train, y_train, X_test, y_test):\n",
    "    with strategy.scope():  \n",
    "        model_FE_v3 = model_inceptionV3()\n",
    "        model_FE_v3.compile(optimizer='Adam', loss='categorical_crossentropy', metrics=['accuracy'])\n",
    "        train_feature_v3 = model_FE_v3.predict(X_train)\n",
    "        test_feature_v3 = model_FE_v3.predict(X_test)\n",
    "        \n",
    "        final_train = np.hstack((train_feature_v3, train_feature_lbp))\n",
    "        final_test = np.hstack((test_feature_v3, test_feature_lbp))\n",
    "\n",
    "        rf = RandomForestClassifier()\n",
    "        rf = rf.fit(final_train, y_train)\n",
    "        test_pred = rf.predict(final_test)\n",
    "\n",
    "        accuracy = accuracy_score(y_test, test_pred)\n",
    "        recall = recall_score(y_test, test_pred, average='weighted')\n",
    "        precision = precision_score(y_test, test_pred, average='weighted')\n",
    "        f1 = f1_score(y_test, test_pred, average='weighted')\n",
    "        auc = roc_auc_score(y_test, test_pred, multi_class='ovr', average='weighted')\n",
    "\n",
    "        return accuracy, recall, precision, f1, auc\n",
    "\n",
    "num_runs = 10\n",
    "results = {'accuracy': [], 'recall': [], 'precision': [], 'f1': [], 'auc': []}\n",
    "\n",
    "for i in tqdm(range(num_runs), desc=\"Evaluating InceptionV3+LBP: \"):\n",
    "    accuracy, recall, precision, f1, auc = train_fuse_and_evaluate_model(X_train, y_train, X_test, y_test)\n",
    "    results['accuracy'].append(accuracy)\n",
    "    results['recall'].append(recall)\n",
    "    results['precision'].append(precision)\n",
    "    results['f1'].append(f1)\n",
    "    results['auc'].append(auc)\n",
    "    print(f\"Run {i+1} - Accuracy: {accuracy:.8f}, Recall: {recall:.8f}, Precision: {precision:.8f}, F1 Score: {f1:.8f}, AUC: {auc:.8f}\")\n",
    "\n",
    "# Calculate average metrics\n",
    "average_metrics = {metric: np.mean(values) for metric, values in results.items()}\n",
    "std_metrics = {metric: np.std(values) for metric, values in results.items()}\n",
    "\n",
    "# Print average metrics\n",
    "print(\"\\nAverage Metrics:\")\n",
    "for metric, value in average_metrics.items():\n",
    "    print(f\"{metric.capitalize()}: {value:.8f} (std: {std_metrics[metric]:.8f})\")\n",
    "\n",
    "# Convert results to a pandas DataFrame\n",
    "results_df = pd.DataFrame(results)\n",
    "\n",
    "# Save results to an Excel file\n",
    "output_file = 'InceptionV3+LBP+RF.xlsx'\n",
    "results_df.to_excel(output_file, index_label='Run')\n",
    "\n",
    "print(f\"\\nMetrics results saved to '{output_file}'\")\n"
   ]
  },
  {
   "cell_type": "markdown",
   "id": "de35d999",
   "metadata": {
    "papermill": {
     "duration": 0.103663,
     "end_time": "2024-07-11T15:13:50.643575",
     "exception": false,
     "start_time": "2024-07-11T15:13:50.539912",
     "status": "completed"
    },
    "tags": []
   },
   "source": [
    "# InceptionV3 + LBP + Decision Tree Classifier"
   ]
  },
  {
   "cell_type": "code",
   "execution_count": 8,
   "id": "f27ca64a",
   "metadata": {
    "execution": {
     "iopub.execute_input": "2024-07-11T15:13:50.852973Z",
     "iopub.status.busy": "2024-07-11T15:13:50.851664Z",
     "iopub.status.idle": "2024-07-11T15:21:01.139339Z",
     "shell.execute_reply": "2024-07-11T15:21:01.138444Z"
    },
    "papermill": {
     "duration": 430.594878,
     "end_time": "2024-07-11T15:21:01.342084",
     "exception": false,
     "start_time": "2024-07-11T15:13:50.747206",
     "status": "completed"
    },
    "tags": []
   },
   "outputs": [
    {
     "name": "stdout",
     "output_type": "stream",
     "text": [
      "\u001b[1m161/161\u001b[0m \u001b[32m━━━━━━━━━━━━━━━━━━━━\u001b[0m\u001b[37m\u001b[0m \u001b[1m18s\u001b[0m 78ms/step\n",
      "\u001b[1m25/25\u001b[0m \u001b[32m━━━━━━━━━━━━━━━━━━━━\u001b[0m\u001b[37m\u001b[0m \u001b[1m1s\u001b[0m 50ms/step\n",
      "Run 1 - Accuracy: 0.89750000, Recall: 0.89750000, Precision: 0.89917654, F1 Score: 0.89699217, AUC: 0.93166667\n",
      "\u001b[1m161/161\u001b[0m \u001b[32m━━━━━━━━━━━━━━━━━━━━\u001b[0m\u001b[37m\u001b[0m \u001b[1m17s\u001b[0m 79ms/step\n",
      "\u001b[1m25/25\u001b[0m \u001b[32m━━━━━━━━━━━━━━━━━━━━\u001b[0m\u001b[37m\u001b[0m \u001b[1m1s\u001b[0m 49ms/step\n",
      "Run 2 - Accuracy: 0.89875000, Recall: 0.89875000, Precision: 0.90002996, F1 Score: 0.89850245, AUC: 0.93250000\n",
      "\u001b[1m161/161\u001b[0m \u001b[32m━━━━━━━━━━━━━━━━━━━━\u001b[0m\u001b[37m\u001b[0m \u001b[1m17s\u001b[0m 79ms/step\n",
      "\u001b[1m25/25\u001b[0m \u001b[32m━━━━━━━━━━━━━━━━━━━━\u001b[0m\u001b[37m\u001b[0m \u001b[1m1s\u001b[0m 49ms/step\n",
      "Run 3 - Accuracy: 0.87875000, Recall: 0.87875000, Precision: 0.87871162, F1 Score: 0.87779582, AUC: 0.91916667\n",
      "\u001b[1m161/161\u001b[0m \u001b[32m━━━━━━━━━━━━━━━━━━━━\u001b[0m\u001b[37m\u001b[0m \u001b[1m18s\u001b[0m 79ms/step\n",
      "\u001b[1m25/25\u001b[0m \u001b[32m━━━━━━━━━━━━━━━━━━━━\u001b[0m\u001b[37m\u001b[0m \u001b[1m1s\u001b[0m 51ms/step\n",
      "Run 4 - Accuracy: 0.89250000, Recall: 0.89250000, Precision: 0.89317371, F1 Score: 0.89194789, AUC: 0.92833333\n",
      "\u001b[1m161/161\u001b[0m \u001b[32m━━━━━━━━━━━━━━━━━━━━\u001b[0m\u001b[37m\u001b[0m \u001b[1m18s\u001b[0m 79ms/step\n",
      "\u001b[1m25/25\u001b[0m \u001b[32m━━━━━━━━━━━━━━━━━━━━\u001b[0m\u001b[37m\u001b[0m \u001b[1m1s\u001b[0m 50ms/step\n",
      "Run 5 - Accuracy: 0.88750000, Recall: 0.88750000, Precision: 0.88740859, F1 Score: 0.88708001, AUC: 0.92500000\n",
      "\u001b[1m161/161\u001b[0m \u001b[32m━━━━━━━━━━━━━━━━━━━━\u001b[0m\u001b[37m\u001b[0m \u001b[1m18s\u001b[0m 84ms/step\n",
      "\u001b[1m25/25\u001b[0m \u001b[32m━━━━━━━━━━━━━━━━━━━━\u001b[0m\u001b[37m\u001b[0m \u001b[1m1s\u001b[0m 49ms/step\n",
      "Run 6 - Accuracy: 0.88875000, Recall: 0.88875000, Precision: 0.88899505, F1 Score: 0.88813449, AUC: 0.92583333\n",
      "\u001b[1m161/161\u001b[0m \u001b[32m━━━━━━━━━━━━━━━━━━━━\u001b[0m\u001b[37m\u001b[0m \u001b[1m17s\u001b[0m 78ms/step\n",
      "\u001b[1m25/25\u001b[0m \u001b[32m━━━━━━━━━━━━━━━━━━━━\u001b[0m\u001b[37m\u001b[0m \u001b[1m1s\u001b[0m 48ms/step\n",
      "Run 7 - Accuracy: 0.89125000, Recall: 0.89125000, Precision: 0.89185896, F1 Score: 0.89060209, AUC: 0.92750000\n",
      "\u001b[1m161/161\u001b[0m \u001b[32m━━━━━━━━━━━━━━━━━━━━\u001b[0m\u001b[37m\u001b[0m \u001b[1m18s\u001b[0m 80ms/step\n",
      "\u001b[1m25/25\u001b[0m \u001b[32m━━━━━━━━━━━━━━━━━━━━\u001b[0m\u001b[37m\u001b[0m \u001b[1m1s\u001b[0m 51ms/step\n",
      "Run 8 - Accuracy: 0.89000000, Recall: 0.89000000, Precision: 0.89025496, F1 Score: 0.88954237, AUC: 0.92666667\n",
      "\u001b[1m161/161\u001b[0m \u001b[32m━━━━━━━━━━━━━━━━━━━━\u001b[0m\u001b[37m\u001b[0m \u001b[1m19s\u001b[0m 80ms/step\n",
      "\u001b[1m25/25\u001b[0m \u001b[32m━━━━━━━━━━━━━━━━━━━━\u001b[0m\u001b[37m\u001b[0m \u001b[1m1s\u001b[0m 49ms/step\n",
      "Run 9 - Accuracy: 0.90500000, Recall: 0.90500000, Precision: 0.90542976, F1 Score: 0.90459001, AUC: 0.93666667\n",
      "\u001b[1m161/161\u001b[0m \u001b[32m━━━━━━━━━━━━━━━━━━━━\u001b[0m\u001b[37m\u001b[0m \u001b[1m18s\u001b[0m 85ms/step\n",
      "\u001b[1m25/25\u001b[0m \u001b[32m━━━━━━━━━━━━━━━━━━━━\u001b[0m\u001b[37m\u001b[0m \u001b[1m1s\u001b[0m 52ms/step\n",
      "Run 10 - Accuracy: 0.90375000, Recall: 0.90375000, Precision: 0.90613840, F1 Score: 0.90358312, AUC: 0.93583333\n",
      "\n",
      "Average Metrics:\n",
      "Accuracy: 0.89337500 (std: 0.00758391)\n",
      "Recall: 0.89337500 (std: 0.00758391)\n",
      "Precision: 0.89411776 (std: 0.00813954)\n",
      "F1: 0.89287704 (std: 0.00775302)\n",
      "Auc: 0.92891667 (std: 0.00505594)\n",
      "\n",
      "Metrics results saved to 'InceptionV3+LBP+DTC.xlsx'\n"
     ]
    }
   ],
   "source": [
    "from sklearn.tree import DecisionTreeClassifier\n",
    "\n",
    "def train_fuse_and_evaluate_model(X_train, y_train, X_test, y_test):\n",
    "    with strategy.scope():  \n",
    "        model_FE_v3 = model_inceptionV3()\n",
    "        model_FE_v3.compile(optimizer='Adam', loss='categorical_crossentropy', metrics=['accuracy'])\n",
    "        train_feature_v3 = model_FE_v3.predict(X_train)\n",
    "        test_feature_v3 = model_FE_v3.predict(X_test)\n",
    "        \n",
    "        final_train = np.hstack((train_feature_v3, train_feature_lbp))\n",
    "        final_test = np.hstack((test_feature_v3, test_feature_lbp))\n",
    "\n",
    "        # Define and train Decision Tree Classifier\n",
    "        dt = DecisionTreeClassifier()\n",
    "        dt.fit(final_train, y_train)\n",
    "        test_pred = dt.predict(final_test)\n",
    "\n",
    "        # Calculate evaluation metrics\n",
    "        accuracy = accuracy_score(y_test, test_pred)\n",
    "        recall = recall_score(y_test, test_pred, average='weighted')\n",
    "        precision = precision_score(y_test, test_pred, average='weighted')\n",
    "        f1 = f1_score(y_test, test_pred, average='weighted')\n",
    "        auc = roc_auc_score(y_test, test_pred, multi_class='ovr', average='weighted')\n",
    "\n",
    "        return accuracy, recall, precision, f1, auc\n",
    "\n",
    "# Perform multiple runs and store the results\n",
    "num_runs = 10\n",
    "results = {'accuracy': [], 'recall': [], 'precision': [], 'f1': [], 'auc': []}\n",
    "\n",
    "for i in range(num_runs):\n",
    "    accuracy, recall, precision, f1, auc = train_fuse_and_evaluate_model(X_train, y_train, X_test, y_test)\n",
    "    results['accuracy'].append(accuracy)\n",
    "    results['recall'].append(recall)\n",
    "    results['precision'].append(precision)\n",
    "    results['f1'].append(f1)\n",
    "    results['auc'].append(auc)\n",
    "    print(f\"Run {i+1} - Accuracy: {accuracy:.8f}, Recall: {recall:.8f}, Precision: {precision:.8f}, F1 Score: {f1:.8f}, AUC: {auc:.8f}\")\n",
    "\n",
    "# Compute average and standard deviation for each metric\n",
    "average_metrics = {metric: np.mean(values) for metric, values in results.items()}\n",
    "std_metrics = {metric: np.std(values) for metric, values in results.items()}\n",
    "\n",
    "print(\"\\nAverage Metrics:\")\n",
    "for metric, value in average_metrics.items():\n",
    "    print(f\"{metric.capitalize()}: {value:.8f} (std: {std_metrics[metric]:.8f})\")\n",
    "\n",
    "# Convert results to a pandas DataFrame\n",
    "results_df = pd.DataFrame(results)\n",
    "\n",
    "# Save results to an Excel file\n",
    "output_file = 'InceptionV3+LBP+DTC.xlsx'\n",
    "results_df.to_excel(output_file, index_label='Run')\n",
    "\n",
    "print(f\"\\nMetrics results saved to '{output_file}'\")\n"
   ]
  },
  {
   "cell_type": "markdown",
   "id": "8305eee3",
   "metadata": {
    "papermill": {
     "duration": 0.201135,
     "end_time": "2024-07-11T15:21:01.745584",
     "exception": false,
     "start_time": "2024-07-11T15:21:01.544449",
     "status": "completed"
    },
    "tags": []
   },
   "source": [
    "# InceptionV3 + LBP + KNN Classifier"
   ]
  },
  {
   "cell_type": "code",
   "execution_count": 9,
   "id": "eddf7aed",
   "metadata": {
    "execution": {
     "iopub.execute_input": "2024-07-11T15:21:02.197743Z",
     "iopub.status.busy": "2024-07-11T15:21:02.197291Z",
     "iopub.status.idle": "2024-07-11T15:25:20.242848Z",
     "shell.execute_reply": "2024-07-11T15:25:20.241719Z"
    },
    "papermill": {
     "duration": 258.252705,
     "end_time": "2024-07-11T15:25:20.245056",
     "exception": false,
     "start_time": "2024-07-11T15:21:01.992351",
     "status": "completed"
    },
    "tags": []
   },
   "outputs": [
    {
     "name": "stdout",
     "output_type": "stream",
     "text": [
      "\u001b[1m161/161\u001b[0m \u001b[32m━━━━━━━━━━━━━━━━━━━━\u001b[0m\u001b[37m\u001b[0m \u001b[1m17s\u001b[0m 79ms/step\n",
      "\u001b[1m25/25\u001b[0m \u001b[32m━━━━━━━━━━━━━━━━━━━━\u001b[0m\u001b[37m\u001b[0m \u001b[1m1s\u001b[0m 50ms/step\n",
      "Run 1 - Accuracy: 0.82875000, Recall: 0.82875000, Precision: 0.85443479, F1 Score: 0.83656277, AUC: 0.89145833\n",
      "\u001b[1m161/161\u001b[0m \u001b[32m━━━━━━━━━━━━━━━━━━━━\u001b[0m\u001b[37m\u001b[0m \u001b[1m19s\u001b[0m 80ms/step\n",
      "\u001b[1m25/25\u001b[0m \u001b[32m━━━━━━━━━━━━━━━━━━━━\u001b[0m\u001b[37m\u001b[0m \u001b[1m1s\u001b[0m 50ms/step\n",
      "Run 2 - Accuracy: 0.78375000, Recall: 0.78375000, Precision: 0.86685442, F1 Score: 0.81367165, AUC: 0.87291667\n",
      "\u001b[1m161/161\u001b[0m \u001b[32m━━━━━━━━━━━━━━━━━━━━\u001b[0m\u001b[37m\u001b[0m \u001b[1m19s\u001b[0m 79ms/step\n",
      "\u001b[1m25/25\u001b[0m \u001b[32m━━━━━━━━━━━━━━━━━━━━\u001b[0m\u001b[37m\u001b[0m \u001b[1m1s\u001b[0m 49ms/step\n",
      "Run 3 - Accuracy: 0.80125000, Recall: 0.80125000, Precision: 0.82588000, F1 Score: 0.80516939, AUC: 0.87395833\n",
      "\u001b[1m161/161\u001b[0m \u001b[32m━━━━━━━━━━━━━━━━━━━━\u001b[0m\u001b[37m\u001b[0m \u001b[1m17s\u001b[0m 77ms/step\n",
      "\u001b[1m25/25\u001b[0m \u001b[32m━━━━━━━━━━━━━━━━━━━━\u001b[0m\u001b[37m\u001b[0m \u001b[1m1s\u001b[0m 49ms/step\n",
      "Run 4 - Accuracy: 0.76125000, Recall: 0.76125000, Precision: 0.86967508, F1 Score: 0.79889071, AUC: 0.86250000\n",
      "\u001b[1m161/161\u001b[0m \u001b[32m━━━━━━━━━━━━━━━━━━━━\u001b[0m\u001b[37m\u001b[0m \u001b[1m18s\u001b[0m 79ms/step\n",
      "\u001b[1m25/25\u001b[0m \u001b[32m━━━━━━━━━━━━━━━━━━━━\u001b[0m\u001b[37m\u001b[0m \u001b[1m1s\u001b[0m 49ms/step\n",
      "Run 5 - Accuracy: 0.80000000, Recall: 0.80000000, Precision: 0.84445348, F1 Score: 0.81102929, AUC: 0.87625000\n",
      "\u001b[1m161/161\u001b[0m \u001b[32m━━━━━━━━━━━━━━━━━━━━\u001b[0m\u001b[37m\u001b[0m \u001b[1m19s\u001b[0m 79ms/step\n",
      "\u001b[1m25/25\u001b[0m \u001b[32m━━━━━━━━━━━━━━━━━━━━\u001b[0m\u001b[37m\u001b[0m \u001b[1m1s\u001b[0m 49ms/step\n",
      "Run 6 - Accuracy: 0.73750000, Recall: 0.73750000, Precision: 0.84586383, F1 Score: 0.77580635, AUC: 0.84750000\n",
      "\u001b[1m161/161\u001b[0m \u001b[32m━━━━━━━━━━━━━━━━━━━━\u001b[0m\u001b[37m\u001b[0m \u001b[1m18s\u001b[0m 87ms/step\n",
      "\u001b[1m25/25\u001b[0m \u001b[32m━━━━━━━━━━━━━━━━━━━━\u001b[0m\u001b[37m\u001b[0m \u001b[1m1s\u001b[0m 52ms/step\n",
      "Run 7 - Accuracy: 0.75250000, Recall: 0.75250000, Precision: 0.80375315, F1 Score: 0.76809032, AUC: 0.84791667\n",
      "\u001b[1m161/161\u001b[0m \u001b[32m━━━━━━━━━━━━━━━━━━━━\u001b[0m\u001b[37m\u001b[0m \u001b[1m17s\u001b[0m 78ms/step\n",
      "\u001b[1m25/25\u001b[0m \u001b[32m━━━━━━━━━━━━━━━━━━━━\u001b[0m\u001b[37m\u001b[0m \u001b[1m1s\u001b[0m 49ms/step\n",
      "Run 8 - Accuracy: 0.71625000, Recall: 0.71625000, Precision: 0.84031985, F1 Score: 0.75884238, AUC: 0.83687500\n",
      "\u001b[1m161/161\u001b[0m \u001b[32m━━━━━━━━━━━━━━━━━━━━\u001b[0m\u001b[37m\u001b[0m \u001b[1m18s\u001b[0m 79ms/step\n",
      "\u001b[1m25/25\u001b[0m \u001b[32m━━━━━━━━━━━━━━━━━━━━\u001b[0m\u001b[37m\u001b[0m \u001b[1m1s\u001b[0m 49ms/step\n",
      "Run 9 - Accuracy: 0.75625000, Recall: 0.75625000, Precision: 0.81249378, F1 Score: 0.77344709, AUC: 0.85083333\n",
      "\u001b[1m161/161\u001b[0m \u001b[32m━━━━━━━━━━━━━━━━━━━━\u001b[0m\u001b[37m\u001b[0m \u001b[1m18s\u001b[0m 79ms/step\n",
      "\u001b[1m25/25\u001b[0m \u001b[32m━━━━━━━━━━━━━━━━━━━━\u001b[0m\u001b[37m\u001b[0m \u001b[1m1s\u001b[0m 51ms/step\n",
      "Run 10 - Accuracy: 0.73500000, Recall: 0.73500000, Precision: 0.83494594, F1 Score: 0.76928881, AUC: 0.84437500\n",
      "\n",
      "Average Metrics:\n",
      "Accuracy: 0.76725000 (std: 0.03344211)\n",
      "Recall: 0.76725000 (std: 0.03344211)\n",
      "Precision: 0.83986743 (std: 0.02039515)\n",
      "F1: 0.79107987 (std: 0.02413173)\n",
      "Auc: 0.86045833 (std: 0.01668743)\n",
      "\n",
      "Metrics results saved to 'InceptionV3+LBP+KNN.xlsx'\n"
     ]
    }
   ],
   "source": [
    "from sklearn.neighbors import KNeighborsClassifier\n",
    "\n",
    "def train_fuse_and_evaluate_model(X_train, y_train, X_test, y_test, num):\n",
    "    with strategy.scope():  \n",
    "        model_FE_v3 = model_inceptionV3()\n",
    "        model_FE_v3.compile(optimizer='Adam', loss='categorical_crossentropy', metrics=['accuracy'])\n",
    "        train_feature_v3 = model_FE_v3.predict(X_train)\n",
    "        test_feature_v3 = model_FE_v3.predict(X_test)\n",
    "        \n",
    "        final_train = np.hstack((train_feature_v3, train_feature_lbp))\n",
    "        final_test = np.hstack((test_feature_v3, test_feature_lbp))\n",
    "\n",
    "        # Define and train KNN Classifier\n",
    "        knn = KNeighborsClassifier(n_neighbors=num)\n",
    "        knn.fit(final_train, y_train)\n",
    "        test_pred = knn.predict(final_test)\n",
    "\n",
    "        # Calculate evaluation metrics\n",
    "        accuracy = accuracy_score(y_test, test_pred)\n",
    "        recall = recall_score(y_test, test_pred, average='weighted')\n",
    "        precision = precision_score(y_test, test_pred, average='weighted')\n",
    "        f1 = f1_score(y_test, test_pred, average='weighted')\n",
    "        auc = roc_auc_score(y_test, test_pred, multi_class='ovr', average='weighted')\n",
    "\n",
    "        return accuracy, recall, precision, f1, auc\n",
    "\n",
    "# Perform multiple runs and store the results\n",
    "num_runs = 10\n",
    "results = {'accuracy': [], 'recall': [], 'precision': [], 'f1': [], 'auc': []}\n",
    "num = 5\n",
    "\n",
    "for i in range(num_runs):\n",
    "    accuracy, recall, precision, f1, auc = train_fuse_and_evaluate_model(X_train, y_train, X_test, y_test, num)\n",
    "    results['accuracy'].append(accuracy)\n",
    "    results['recall'].append(recall)\n",
    "    results['precision'].append(precision)\n",
    "    results['f1'].append(f1)\n",
    "    results['auc'].append(auc)\n",
    "    print(f\"Run {i+1} - Accuracy: {accuracy:.8f}, Recall: {recall:.8f}, Precision: {precision:.8f}, F1 Score: {f1:.8f}, AUC: {auc:.8f}\")\n",
    "    num = num+1\n",
    "\n",
    "# Compute average and standard deviation for each metric\n",
    "average_metrics = {metric: np.mean(values) for metric, values in results.items()}\n",
    "std_metrics = {metric: np.std(values) for metric, values in results.items()}\n",
    "\n",
    "print(\"\\nAverage Metrics:\")\n",
    "for metric, value in average_metrics.items():\n",
    "    print(f\"{metric.capitalize()}: {value:.8f} (std: {std_metrics[metric]:.8f})\")\n",
    "\n",
    "# Convert results to a pandas DataFrame\n",
    "results_df = pd.DataFrame(results)\n",
    "\n",
    "# Save results to an Excel file\n",
    "output_file = 'InceptionV3+LBP+KNN.xlsx'\n",
    "results_df.to_excel(output_file, index_label='Run')\n",
    "\n",
    "print(f\"\\nMetrics results saved to '{output_file}'\")\n"
   ]
  },
  {
   "cell_type": "markdown",
   "id": "57ac5f70",
   "metadata": {
    "papermill": {
     "duration": 0.297157,
     "end_time": "2024-07-11T15:25:20.892273",
     "exception": false,
     "start_time": "2024-07-11T15:25:20.595116",
     "status": "completed"
    },
    "tags": []
   },
   "source": [
    "# InceptionV3 + LBP + SVM Classifier"
   ]
  },
  {
   "cell_type": "code",
   "execution_count": 10,
   "id": "a6737655",
   "metadata": {
    "execution": {
     "iopub.execute_input": "2024-07-11T15:25:21.491198Z",
     "iopub.status.busy": "2024-07-11T15:25:21.490793Z",
     "iopub.status.idle": "2024-07-11T15:44:09.054765Z",
     "shell.execute_reply": "2024-07-11T15:44:09.053037Z"
    },
    "papermill": {
     "duration": 1128.271463,
     "end_time": "2024-07-11T15:44:09.462437",
     "exception": false,
     "start_time": "2024-07-11T15:25:21.190974",
     "status": "completed"
    },
    "tags": []
   },
   "outputs": [
    {
     "name": "stdout",
     "output_type": "stream",
     "text": [
      "\u001b[1m161/161\u001b[0m \u001b[32m━━━━━━━━━━━━━━━━━━━━\u001b[0m\u001b[37m\u001b[0m \u001b[1m18s\u001b[0m 86ms/step\n",
      "\u001b[1m25/25\u001b[0m \u001b[32m━━━━━━━━━━━━━━━━━━━━\u001b[0m\u001b[37m\u001b[0m \u001b[1m1s\u001b[0m 49ms/step\n",
      "Run 1 - Accuracy: 0.81375000, Recall: 0.81375000, Precision: 0.81828262, F1 Score: 0.80709072, AUC: 0.95116042\n",
      "\u001b[1m161/161\u001b[0m \u001b[32m━━━━━━━━━━━━━━━━━━━━\u001b[0m\u001b[37m\u001b[0m \u001b[1m17s\u001b[0m 79ms/step\n",
      "\u001b[1m25/25\u001b[0m \u001b[32m━━━━━━━━━━━━━━━━━━━━\u001b[0m\u001b[37m\u001b[0m \u001b[1m1s\u001b[0m 52ms/step\n",
      "Run 2 - Accuracy: 0.81375000, Recall: 0.81375000, Precision: 0.81828262, F1 Score: 0.80709072, AUC: 0.95126875\n",
      "\u001b[1m161/161\u001b[0m \u001b[32m━━━━━━━━━━━━━━━━━━━━\u001b[0m\u001b[37m\u001b[0m \u001b[1m18s\u001b[0m 78ms/step\n",
      "\u001b[1m25/25\u001b[0m \u001b[32m━━━━━━━━━━━━━━━━━━━━\u001b[0m\u001b[37m\u001b[0m \u001b[1m1s\u001b[0m 49ms/step\n",
      "Run 3 - Accuracy: 0.81375000, Recall: 0.81375000, Precision: 0.81828262, F1 Score: 0.80709072, AUC: 0.95120625\n",
      "\u001b[1m161/161\u001b[0m \u001b[32m━━━━━━━━━━━━━━━━━━━━\u001b[0m\u001b[37m\u001b[0m \u001b[1m18s\u001b[0m 78ms/step\n",
      "\u001b[1m25/25\u001b[0m \u001b[32m━━━━━━━━━━━━━━━━━━━━\u001b[0m\u001b[37m\u001b[0m \u001b[1m1s\u001b[0m 49ms/step\n",
      "Run 4 - Accuracy: 0.81375000, Recall: 0.81375000, Precision: 0.81828262, F1 Score: 0.80709072, AUC: 0.95117083\n",
      "\u001b[1m161/161\u001b[0m \u001b[32m━━━━━━━━━━━━━━━━━━━━\u001b[0m\u001b[37m\u001b[0m \u001b[1m18s\u001b[0m 78ms/step\n",
      "\u001b[1m25/25\u001b[0m \u001b[32m━━━━━━━━━━━━━━━━━━━━\u001b[0m\u001b[37m\u001b[0m \u001b[1m1s\u001b[0m 50ms/step\n",
      "Run 5 - Accuracy: 0.81375000, Recall: 0.81375000, Precision: 0.81828262, F1 Score: 0.80709072, AUC: 0.95125625\n",
      "\u001b[1m161/161\u001b[0m \u001b[32m━━━━━━━━━━━━━━━━━━━━\u001b[0m\u001b[37m\u001b[0m \u001b[1m17s\u001b[0m 76ms/step\n",
      "\u001b[1m25/25\u001b[0m \u001b[32m━━━━━━━━━━━━━━━━━━━━\u001b[0m\u001b[37m\u001b[0m \u001b[1m2s\u001b[0m 50ms/step\n",
      "Run 6 - Accuracy: 0.81375000, Recall: 0.81375000, Precision: 0.81828262, F1 Score: 0.80709072, AUC: 0.95117500\n",
      "\u001b[1m161/161\u001b[0m \u001b[32m━━━━━━━━━━━━━━━━━━━━\u001b[0m\u001b[37m\u001b[0m \u001b[1m18s\u001b[0m 80ms/step\n",
      "\u001b[1m25/25\u001b[0m \u001b[32m━━━━━━━━━━━━━━━━━━━━\u001b[0m\u001b[37m\u001b[0m \u001b[1m1s\u001b[0m 52ms/step\n",
      "Run 7 - Accuracy: 0.81375000, Recall: 0.81375000, Precision: 0.81828262, F1 Score: 0.80709072, AUC: 0.95115000\n",
      "\u001b[1m161/161\u001b[0m \u001b[32m━━━━━━━━━━━━━━━━━━━━\u001b[0m\u001b[37m\u001b[0m \u001b[1m19s\u001b[0m 81ms/step\n",
      "\u001b[1m25/25\u001b[0m \u001b[32m━━━━━━━━━━━━━━━━━━━━\u001b[0m\u001b[37m\u001b[0m \u001b[1m1s\u001b[0m 52ms/step\n",
      "Run 8 - Accuracy: 0.81375000, Recall: 0.81375000, Precision: 0.81828262, F1 Score: 0.80709072, AUC: 0.95124167\n",
      "\u001b[1m161/161\u001b[0m \u001b[32m━━━━━━━━━━━━━━━━━━━━\u001b[0m\u001b[37m\u001b[0m \u001b[1m18s\u001b[0m 85ms/step\n",
      "\u001b[1m25/25\u001b[0m \u001b[32m━━━━━━━━━━━━━━━━━━━━\u001b[0m\u001b[37m\u001b[0m \u001b[1m1s\u001b[0m 49ms/step\n",
      "Run 9 - Accuracy: 0.81375000, Recall: 0.81375000, Precision: 0.81828262, F1 Score: 0.80709072, AUC: 0.95118333\n",
      "\u001b[1m161/161\u001b[0m \u001b[32m━━━━━━━━━━━━━━━━━━━━\u001b[0m\u001b[37m\u001b[0m \u001b[1m17s\u001b[0m 79ms/step\n",
      "\u001b[1m25/25\u001b[0m \u001b[32m━━━━━━━━━━━━━━━━━━━━\u001b[0m\u001b[37m\u001b[0m \u001b[1m1s\u001b[0m 53ms/step\n",
      "Run 10 - Accuracy: 0.81375000, Recall: 0.81375000, Precision: 0.81828262, F1 Score: 0.80709072, AUC: 0.95118333\n",
      "\n",
      "Average Metrics:\n",
      "Accuracy: 0.81375000 (std: 0.00000000)\n",
      "Recall: 0.81375000 (std: 0.00000000)\n",
      "Precision: 0.81828262 (std: 0.00000000)\n",
      "F1: 0.80709072 (std: 0.00000000)\n",
      "Auc: 0.95119958 (std: 0.00003970)\n",
      "\n",
      "Metrics results saved to 'InceptionV3+LBP+SVM.xlsx'\n"
     ]
    }
   ],
   "source": [
    "from sklearn.svm import SVC\n",
    "\n",
    "def train_fuse_and_evaluate_model(X_train, y_train, X_test, y_test):\n",
    "    with strategy.scope():  \n",
    "        y_train_cat = convert_one_hot_to_categorical(y_train)\n",
    "        y_test_cat = convert_one_hot_to_categorical(y_test)\n",
    "        \n",
    "        model_FE_v3 = model_inceptionV3()\n",
    "        model_FE_v3.compile(optimizer='Adam', loss='categorical_crossentropy', metrics=['accuracy'])\n",
    "        train_feature_v3 = model_FE_v3.predict(X_train)\n",
    "        test_feature_v3 = model_FE_v3.predict(X_test)\n",
    "        \n",
    "        final_train = np.hstack((train_feature_v3, train_feature_lbp))\n",
    "        final_test = np.hstack((test_feature_v3, test_feature_lbp))\n",
    "\n",
    "        # Define and train SVM Classifier\n",
    "        svm = SVC(probability=True)\n",
    "        svm.fit(final_train, y_train_cat)\n",
    "        test_pred = svm.predict(final_test)\n",
    "        test_pred_proba = svm.predict_proba(final_test)\n",
    "\n",
    "        # Calculate evaluation metrics\n",
    "        accuracy = accuracy_score(y_test_cat, test_pred)\n",
    "        recall = recall_score(y_test_cat, test_pred, average='weighted')\n",
    "        precision = precision_score(y_test_cat, test_pred, average='weighted')\n",
    "        f1 = f1_score(y_test_cat, test_pred, average='weighted')\n",
    "        auc = roc_auc_score(y_test_cat, test_pred_proba, multi_class='ovr', average='weighted')\n",
    "\n",
    "        return accuracy, recall, precision, f1, auc\n",
    "\n",
    "# Perform multiple runs and store the results\n",
    "num_runs = 10\n",
    "results = {'accuracy': [], 'recall': [], 'precision': [], 'f1': [], 'auc': []}\n",
    "\n",
    "for i in range(num_runs):\n",
    "    accuracy, recall, precision, f1, auc = train_fuse_and_evaluate_model(X_train, y_train, X_test, y_test)\n",
    "    results['accuracy'].append(accuracy)\n",
    "    results['recall'].append(recall)\n",
    "    results['precision'].append(precision)\n",
    "    results['f1'].append(f1)\n",
    "    results['auc'].append(auc)\n",
    "    print(f\"Run {i+1} - Accuracy: {accuracy:.8f}, Recall: {recall:.8f}, Precision: {precision:.8f}, F1 Score: {f1:.8f}, AUC: {auc:.8f}\")\n",
    "\n",
    "# Compute average and standard deviation for each metric\n",
    "average_metrics = {metric: np.mean(values) for metric, values in results.items()}\n",
    "std_metrics = {metric: np.std(values) for metric, values in results.items()}\n",
    "\n",
    "print(\"\\nAverage Metrics:\")\n",
    "for metric, value in average_metrics.items():\n",
    "    print(f\"{metric.capitalize()}: {value:.8f} (std: {std_metrics[metric]:.8f})\")\n",
    "\n",
    "# Convert results to a pandas DataFrame\n",
    "results_df = pd.DataFrame(results)\n",
    "\n",
    "# Save results to an Excel file\n",
    "output_file = 'InceptionV3+LBP+SVM.xlsx'\n",
    "results_df.to_excel(output_file, index_label='Run')\n",
    "\n",
    "print(f\"\\nMetrics results saved to '{output_file}'\")\n"
   ]
  },
  {
   "cell_type": "markdown",
   "id": "c8eda0a2",
   "metadata": {
    "papermill": {
     "duration": 0.402216,
     "end_time": "2024-07-11T15:44:10.316242",
     "exception": false,
     "start_time": "2024-07-11T15:44:09.914026",
     "status": "completed"
    },
    "tags": []
   },
   "source": [
    "# InceptionV3 + LBP + XGBoost Classifier"
   ]
  },
  {
   "cell_type": "code",
   "execution_count": 11,
   "id": "794f6bc0",
   "metadata": {
    "execution": {
     "iopub.execute_input": "2024-07-11T15:44:11.112354Z",
     "iopub.status.busy": "2024-07-11T15:44:11.111380Z",
     "iopub.status.idle": "2024-07-11T16:00:41.457458Z",
     "shell.execute_reply": "2024-07-11T16:00:41.456573Z"
    },
    "papermill": {
     "duration": 991.247232,
     "end_time": "2024-07-11T16:00:41.959498",
     "exception": false,
     "start_time": "2024-07-11T15:44:10.712266",
     "status": "completed"
    },
    "tags": []
   },
   "outputs": [
    {
     "name": "stdout",
     "output_type": "stream",
     "text": [
      "\u001b[1m161/161\u001b[0m \u001b[32m━━━━━━━━━━━━━━━━━━━━\u001b[0m\u001b[37m\u001b[0m \u001b[1m17s\u001b[0m 79ms/step\n",
      "\u001b[1m25/25\u001b[0m \u001b[32m━━━━━━━━━━━━━━━━━━━━\u001b[0m\u001b[37m\u001b[0m \u001b[1m1s\u001b[0m 50ms/step\n",
      "Run 1 - Accuracy: 0.97500000, Recall: 0.97500000, Precision: 0.97561366, F1 Score: 0.97484956, AUC: 0.99941250\n",
      "\u001b[1m161/161\u001b[0m \u001b[32m━━━━━━━━━━━━━━━━━━━━\u001b[0m\u001b[37m\u001b[0m \u001b[1m17s\u001b[0m 77ms/step\n",
      "\u001b[1m25/25\u001b[0m \u001b[32m━━━━━━━━━━━━━━━━━━━━\u001b[0m\u001b[37m\u001b[0m \u001b[1m1s\u001b[0m 51ms/step\n",
      "Run 2 - Accuracy: 0.97500000, Recall: 0.97500000, Precision: 0.97561366, F1 Score: 0.97484956, AUC: 0.99941250\n",
      "\u001b[1m161/161\u001b[0m \u001b[32m━━━━━━━━━━━━━━━━━━━━\u001b[0m\u001b[37m\u001b[0m \u001b[1m19s\u001b[0m 80ms/step\n",
      "\u001b[1m25/25\u001b[0m \u001b[32m━━━━━━━━━━━━━━━━━━━━\u001b[0m\u001b[37m\u001b[0m \u001b[1m1s\u001b[0m 50ms/step\n",
      "Run 3 - Accuracy: 0.97500000, Recall: 0.97500000, Precision: 0.97561366, F1 Score: 0.97484956, AUC: 0.99941250\n",
      "\u001b[1m161/161\u001b[0m \u001b[32m━━━━━━━━━━━━━━━━━━━━\u001b[0m\u001b[37m\u001b[0m \u001b[1m18s\u001b[0m 87ms/step\n",
      "\u001b[1m25/25\u001b[0m \u001b[32m━━━━━━━━━━━━━━━━━━━━\u001b[0m\u001b[37m\u001b[0m \u001b[1m1s\u001b[0m 50ms/step\n",
      "Run 4 - Accuracy: 0.97500000, Recall: 0.97500000, Precision: 0.97561366, F1 Score: 0.97484956, AUC: 0.99941250\n",
      "\u001b[1m161/161\u001b[0m \u001b[32m━━━━━━━━━━━━━━━━━━━━\u001b[0m\u001b[37m\u001b[0m \u001b[1m17s\u001b[0m 80ms/step\n",
      "\u001b[1m25/25\u001b[0m \u001b[32m━━━━━━━━━━━━━━━━━━━━\u001b[0m\u001b[37m\u001b[0m \u001b[1m1s\u001b[0m 50ms/step\n",
      "Run 5 - Accuracy: 0.97500000, Recall: 0.97500000, Precision: 0.97561366, F1 Score: 0.97484956, AUC: 0.99941250\n",
      "\u001b[1m161/161\u001b[0m \u001b[32m━━━━━━━━━━━━━━━━━━━━\u001b[0m\u001b[37m\u001b[0m \u001b[1m18s\u001b[0m 78ms/step\n",
      "\u001b[1m25/25\u001b[0m \u001b[32m━━━━━━━━━━━━━━━━━━━━\u001b[0m\u001b[37m\u001b[0m \u001b[1m1s\u001b[0m 50ms/step\n",
      "Run 6 - Accuracy: 0.97500000, Recall: 0.97500000, Precision: 0.97561366, F1 Score: 0.97484956, AUC: 0.99941250\n",
      "\u001b[1m161/161\u001b[0m \u001b[32m━━━━━━━━━━━━━━━━━━━━\u001b[0m\u001b[37m\u001b[0m \u001b[1m18s\u001b[0m 85ms/step\n",
      "\u001b[1m25/25\u001b[0m \u001b[32m━━━━━━━━━━━━━━━━━━━━\u001b[0m\u001b[37m\u001b[0m \u001b[1m1s\u001b[0m 52ms/step\n",
      "Run 7 - Accuracy: 0.97500000, Recall: 0.97500000, Precision: 0.97561366, F1 Score: 0.97484956, AUC: 0.99941250\n",
      "\u001b[1m161/161\u001b[0m \u001b[32m━━━━━━━━━━━━━━━━━━━━\u001b[0m\u001b[37m\u001b[0m \u001b[1m17s\u001b[0m 79ms/step\n",
      "\u001b[1m25/25\u001b[0m \u001b[32m━━━━━━━━━━━━━━━━━━━━\u001b[0m\u001b[37m\u001b[0m \u001b[1m1s\u001b[0m 50ms/step\n",
      "Run 8 - Accuracy: 0.97500000, Recall: 0.97500000, Precision: 0.97561366, F1 Score: 0.97484956, AUC: 0.99941250\n",
      "\u001b[1m161/161\u001b[0m \u001b[32m━━━━━━━━━━━━━━━━━━━━\u001b[0m\u001b[37m\u001b[0m \u001b[1m17s\u001b[0m 78ms/step\n",
      "\u001b[1m25/25\u001b[0m \u001b[32m━━━━━━━━━━━━━━━━━━━━\u001b[0m\u001b[37m\u001b[0m \u001b[1m1s\u001b[0m 51ms/step\n",
      "Run 9 - Accuracy: 0.97500000, Recall: 0.97500000, Precision: 0.97561366, F1 Score: 0.97484956, AUC: 0.99941250\n",
      "\u001b[1m161/161\u001b[0m \u001b[32m━━━━━━━━━━━━━━━━━━━━\u001b[0m\u001b[37m\u001b[0m \u001b[1m18s\u001b[0m 78ms/step\n",
      "\u001b[1m25/25\u001b[0m \u001b[32m━━━━━━━━━━━━━━━━━━━━\u001b[0m\u001b[37m\u001b[0m \u001b[1m1s\u001b[0m 48ms/step\n",
      "Run 10 - Accuracy: 0.97500000, Recall: 0.97500000, Precision: 0.97561366, F1 Score: 0.97484956, AUC: 0.99941250\n",
      "\n",
      "Average Metrics:\n",
      "Accuracy: 0.97500000 (std: 0.00000000)\n",
      "Recall: 0.97500000 (std: 0.00000000)\n",
      "Precision: 0.97561366 (std: 0.00000000)\n",
      "F1: 0.97484956 (std: 0.00000000)\n",
      "Auc: 0.99941250 (std: 0.00000000)\n",
      "\n",
      "Metrics results saved to 'InceptionV3+LBP+XGB.xlsx'\n"
     ]
    }
   ],
   "source": [
    "from xgboost import XGBClassifier\n",
    "\n",
    "def train_fuse_and_evaluate_model(X_train, y_train, X_test, y_test):\n",
    "    with strategy.scope():  \n",
    "        y_train_cat = convert_one_hot_to_categorical(y_train)\n",
    "        y_test_cat = convert_one_hot_to_categorical(y_test)\n",
    "        \n",
    "        model_FE_v3 = model_inceptionV3()\n",
    "        model_FE_v3.compile(optimizer='Adam', loss='categorical_crossentropy', metrics=['accuracy'])\n",
    "        train_feature_v3 = model_FE_v3.predict(X_train)\n",
    "        test_feature_v3 = model_FE_v3.predict(X_test)\n",
    "        \n",
    "        final_train = np.hstack((train_feature_v3, train_feature_lbp))\n",
    "        final_test = np.hstack((test_feature_v3, test_feature_lbp))\n",
    "\n",
    "        # Define and train XGB Classifier\n",
    "        xgb = XGBClassifier(use_label_encoder=False, eval_metric='mlogloss')\n",
    "        xgb.fit(final_train, y_train_cat)\n",
    "        test_pred = xgb.predict(final_test)\n",
    "        test_pred_proba = xgb.predict_proba(final_test)\n",
    "\n",
    "        # Calculate evaluation metrics\n",
    "        accuracy = accuracy_score(y_test_cat, test_pred)\n",
    "        recall = recall_score(y_test_cat, test_pred, average='weighted')\n",
    "        precision = precision_score(y_test_cat, test_pred, average='weighted')\n",
    "        f1 = f1_score(y_test_cat, test_pred, average='weighted')\n",
    "        auc = roc_auc_score(y_test_cat, test_pred_proba, multi_class='ovr', average='weighted')\n",
    "\n",
    "        return accuracy, recall, precision, f1, auc\n",
    "\n",
    "# Perform multiple runs and store the results\n",
    "num_runs = 10\n",
    "results = {'accuracy': [], 'recall': [], 'precision': [], 'f1': [], 'auc': []}\n",
    "\n",
    "for i in range(num_runs):\n",
    "    accuracy, recall, precision, f1, auc = train_fuse_and_evaluate_model(X_train, y_train, X_test, y_test)\n",
    "    results['accuracy'].append(accuracy)\n",
    "    results['recall'].append(recall)\n",
    "    results['precision'].append(precision)\n",
    "    results['f1'].append(f1)\n",
    "    results['auc'].append(auc)\n",
    "    print(f\"Run {i+1} - Accuracy: {accuracy:.8f}, Recall: {recall:.8f}, Precision: {precision:.8f}, F1 Score: {f1:.8f}, AUC: {auc:.8f}\")\n",
    "\n",
    "# Compute average and standard deviation for each metric\n",
    "average_metrics = {metric: np.mean(values) for metric, values in results.items()}\n",
    "std_metrics = {metric: np.std(values) for metric, values in results.items()}\n",
    "\n",
    "print(\"\\nAverage Metrics:\")\n",
    "for metric, value in average_metrics.items():\n",
    "    print(f\"{metric.capitalize()}: {value:.8f} (std: {std_metrics[metric]:.8f})\")\n",
    "\n",
    "# Convert results to a pandas DataFrame\n",
    "results_df = pd.DataFrame(results)\n",
    "\n",
    "# Save results to an Excel file\n",
    "output_file = 'InceptionV3+LBP+XGB.xlsx'\n",
    "results_df.to_excel(output_file, index_label='Run')\n",
    "\n",
    "print(f\"\\nMetrics results saved to '{output_file}'\")\n"
   ]
  },
  {
   "cell_type": "code",
   "execution_count": null,
   "id": "5000e84a",
   "metadata": {
    "papermill": {
     "duration": 0.549509,
     "end_time": "2024-07-11T16:00:43.010018",
     "exception": false,
     "start_time": "2024-07-11T16:00:42.460509",
     "status": "completed"
    },
    "tags": []
   },
   "outputs": [],
   "source": []
  }
 ],
 "metadata": {
  "kaggle": {
   "accelerator": "nvidiaTeslaT4",
   "dataSources": [
    {
     "datasetId": 5316766,
     "sourceId": 8835279,
     "sourceType": "datasetVersion"
    }
   ],
   "dockerImageVersionId": 30733,
   "isGpuEnabled": true,
   "isInternetEnabled": true,
   "language": "python",
   "sourceType": "notebook"
  },
  "kernelspec": {
   "display_name": "Python 3",
   "language": "python",
   "name": "python3"
  },
  "language_info": {
   "codemirror_mode": {
    "name": "ipython",
    "version": 3
   },
   "file_extension": ".py",
   "mimetype": "text/x-python",
   "name": "python",
   "nbconvert_exporter": "python",
   "pygments_lexer": "ipython3",
   "version": "3.10.13"
  },
  "papermill": {
   "default_parameters": {},
   "duration": 3555.932739,
   "end_time": "2024-07-11T16:00:46.472643",
   "environment_variables": {},
   "exception": null,
   "input_path": "__notebook__.ipynb",
   "output_path": "__notebook__.ipynb",
   "parameters": {},
   "start_time": "2024-07-11T15:01:30.539904",
   "version": "2.5.0"
  }
 },
 "nbformat": 4,
 "nbformat_minor": 5
}
